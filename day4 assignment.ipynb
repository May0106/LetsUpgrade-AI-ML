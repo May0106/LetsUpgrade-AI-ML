{
 "cells": [
  {
   "cell_type": "code",
   "execution_count": 1,
   "metadata": {},
   "outputs": [
    {
     "name": "stdout",
     "output_type": "stream",
     "text": [
      "(6+3j)\n",
      "(2+1j)\n",
      "(6+8j)\n",
      "(2+0j)\n"
     ]
    }
   ],
   "source": [
    "# question 1\n",
    "\n",
    "a=4+2j\n",
    "b=2+1j\n",
    "\n",
    "c=a+b\n",
    "d=a-b\n",
    "e=a*b\n",
    "f=a/b\n",
    "\n",
    "\n",
    "print(c)\n",
    "print(d)\n",
    "print(e)\n",
    "print(f)\n"
   ]
  },
  {
   "cell_type": "markdown",
   "metadata": {},
   "source": [
    "__Question 1__\n",
    "\n",
    "__All the arithmetic operation can be performed on complex number eccept floor division and modulas__"
   ]
  },
  {
   "cell_type": "markdown",
   "metadata": {},
   "source": [
    "__Question 2__\n",
    "\n",
    "range() function is used to generate a sequence of integer starting from 0 by default, and increment by 1 by default,till j-1\n",
    "__syntax__\n",
    "range(start,stop,stepsize)\n",
    "\n",
    "EXAMPLE\n",
    "range(5)\n",
    "\n",
    "it will give o/p as (0,1,2,3,4)\n"
   ]
  },
  {
   "cell_type": "code",
   "execution_count": 2,
   "metadata": {},
   "outputs": [
    {
     "name": "stdout",
     "output_type": "stream",
     "text": [
      "0\n",
      "1\n",
      "2\n",
      "3\n",
      "4\n"
     ]
    }
   ],
   "source": [
    "# range example\n",
    "\n",
    "for i in range(5):\n",
    "      print(i)"
   ]
  },
  {
   "cell_type": "code",
   "execution_count": 3,
   "metadata": {},
   "outputs": [
    {
     "name": "stdout",
     "output_type": "stream",
     "text": [
      "multiplication of a and b is 675\n"
     ]
    }
   ],
   "source": [
    "# Question 3\n",
    "\n",
    "a=45\n",
    "b=15\n",
    "\n",
    "c=a-b\n",
    "\n",
    "if c>25:\n",
    "    print(\"multiplication of a and b is\",a*b)\n",
    "else:\n",
    "   print(\"division of a and b is\",a/b) "
   ]
  },
  {
   "cell_type": "code",
   "execution_count": 4,
   "metadata": {},
   "outputs": [
    {
     "name": "stdout",
     "output_type": "stream",
     "text": [
      "square of 2 minus 2 is 2\n",
      "square of 4 minus 2 is 14\n",
      "square of 6 minus 2 is 34\n",
      "square of 8 minus 2 is 62\n",
      "square of 10 minus 2 is 98\n",
      "square of 12 minus 2 is 142\n",
      "square of 14 minus 2 is 194\n",
      "square of 16 minus 2 is 254\n",
      "square of 18 minus 2 is 322\n",
      "square of 20 minus 2 is 398\n"
     ]
    }
   ],
   "source": [
    "# Question 4\n",
    "\n",
    "num=[2,4,6,8,10,12,14,16,18,20]\n",
    "\n",
    "for i in num:\n",
    "    if(i/2):\n",
    "        print(\"square of\",i,\"minus 2 is\",((i**2)-2))"
   ]
  },
  {
   "cell_type": "code",
   "execution_count": 5,
   "metadata": {},
   "outputs": [
    {
     "name": "stdout",
     "output_type": "stream",
     "text": [
      "division of 16 with 2 is greater than 7\n",
      "division of 18 with 2 is greater than 7\n",
      "division of 20 with 2 is greater than 7\n"
     ]
    }
   ],
   "source": [
    "# Question 5\n",
    "\n",
    "list=[2,4,6,8,10,12,14,16,18,20]\n",
    "\n",
    "for i in list:\n",
    "    if(i/2)>7:\n",
    "        print(\"division of\",i,\"with 2 is greater than 7\")"
   ]
  },
  {
   "cell_type": "code",
   "execution_count": null,
   "metadata": {},
   "outputs": [],
   "source": []
  }
 ],
 "metadata": {
  "kernelspec": {
   "display_name": "Python 3",
   "language": "python",
   "name": "python3"
  },
  "language_info": {
   "codemirror_mode": {
    "name": "ipython",
    "version": 3
   },
   "file_extension": ".py",
   "mimetype": "text/x-python",
   "name": "python",
   "nbconvert_exporter": "python",
   "pygments_lexer": "ipython3",
   "version": "3.7.6"
  }
 },
 "nbformat": 4,
 "nbformat_minor": 4
}
