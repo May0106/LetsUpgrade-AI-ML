{
 "cells": [
  {
   "cell_type": "code",
   "execution_count": 1,
   "metadata": {},
   "outputs": [
    {
     "name": "stdout",
     "output_type": "stream",
     "text": [
      "(3-1j)\n"
     ]
    }
   ],
   "source": [
    "#to subtract two complex number in python\n",
    "\n",
    "a=5+2j\n",
    "b=2+3j\n",
    "\n",
    "c=a-b\n",
    "print(c)"
   ]
  },
  {
   "cell_type": "code",
   "execution_count": 2,
   "metadata": {},
   "outputs": [
    {
     "name": "stdout",
     "output_type": "stream",
     "text": [
      "625\n"
     ]
    }
   ],
   "source": [
    "#to find the fourth root of a number\n",
    "a=5**4\n",
    "\n",
    "print(a)\n"
   ]
  },
  {
   "cell_type": "code",
   "execution_count": 4,
   "metadata": {},
   "outputs": [
    {
     "name": "stdout",
     "output_type": "stream",
     "text": [
      "the value of a after swaping 4\n",
      "the value of b after swaping 2\n"
     ]
    }
   ],
   "source": [
    "#program to swap two number with the help of temporary variable\n",
    "\n",
    "a=2\n",
    "b=4\n",
    "\n",
    "temp=a\n",
    "a=b\n",
    "b=temp\n",
    "\n",
    "print(\"the value of a after swaping\",a)\n",
    "\n",
    "print(\"the value of b after swaping\",b)\n"
   ]
  },
  {
   "cell_type": "code",
   "execution_count": 8,
   "metadata": {},
   "outputs": [
    {
     "name": "stdout",
     "output_type": "stream",
     "text": [
      "x= 10\n",
      "y= 5\n"
     ]
    }
   ],
   "source": [
    "# to swap two number without temporary variable\n",
    "\n",
    "x=5\n",
    "y=10\n",
    "\n",
    "x,y=y,x\n",
    "\n",
    "print(\"x=\",x)\n",
    "print(\"y=\",y)"
   ]
  },
  {
   "cell_type": "code",
   "execution_count": 11,
   "metadata": {},
   "outputs": [
    {
     "name": "stdout",
     "output_type": "stream",
     "text": [
      "10.0\n"
     ]
    }
   ],
   "source": [
    "# to convert fahrenheit to celsius\n",
    "\n",
    "a=50 #a is fahrenheit temperature\n",
    "z=(a-32)*5/9\n",
    "\n",
    "print(z)"
   ]
  },
  {
   "cell_type": "code",
   "execution_count": 12,
   "metadata": {},
   "outputs": [
    {
     "name": "stdout",
     "output_type": "stream",
     "text": [
      "283.15\n"
     ]
    }
   ],
   "source": [
    "# to convert fahrenheit to kelvins\n",
    "a=50\n",
    "z=((a-32)*5/9+273.15)\n",
    "\n",
    "print(z)\n"
   ]
  },
  {
   "cell_type": "code",
   "execution_count": 14,
   "metadata": {
    "scrolled": true
   },
   "outputs": [
    {
     "name": "stdout",
     "output_type": "stream",
     "text": [
      "<class 'int'>\n",
      "<class 'str'>\n",
      "<class 'list'>\n",
      "<class 'tuple'>\n",
      "<class 'float'>\n"
     ]
    }
   ],
   "source": [
    "#to show all available datatype in python \n",
    "a=1\n",
    "b=\"lets upgrade\"\n",
    "c=[1,2,3,5,'python']\n",
    "d=(1,3,4,5,\"learner\")\n",
    "e=2.34\n",
    "\n",
    "print(type (a))\n",
    "print(type (b))\n",
    "print(type (c))\n",
    "print(type (d))\n",
    "print(type (e))"
   ]
  },
  {
   "cell_type": "markdown",
   "metadata": {},
   "source": [
    "__STEPS TO UPLOAD ASSIGNMENT__\n",
    "\n",
    "Steps to upload assignment in github\n",
    "\n",
    "1> Go to github.com.Sign in to your account.If you don't have an account create one.\n",
    "2> to upload the file click on 'NEW' and name the repository as 'LETS UPGRADE AI/ML'.Put the description as assignment.Make     your profile public.Click on create repository.\n",
    "3>Then upload the respective assignment.Then click on commit changes.\n",
    "4>Copy the github URL and paste it in the google form provided by lets upgrade team.\n"
   ]
  },
  {
   "cell_type": "code",
   "execution_count": null,
   "metadata": {},
   "outputs": [],
   "source": []
  }
 ],
 "metadata": {
  "kernelspec": {
   "display_name": "Python 3",
   "language": "python",
   "name": "python3"
  },
  "language_info": {
   "codemirror_mode": {
    "name": "ipython",
    "version": 3
   },
   "file_extension": ".py",
   "mimetype": "text/x-python",
   "name": "python",
   "nbconvert_exporter": "python",
   "pygments_lexer": "ipython3",
   "version": "3.7.6"
  }
 },
 "nbformat": 4,
 "nbformat_minor": 4
}
